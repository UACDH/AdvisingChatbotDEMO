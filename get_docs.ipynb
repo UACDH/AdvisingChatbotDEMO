{
 "cells": [
  {
   "cell_type": "code",
   "execution_count": 1,
   "id": "ef8df4a3-abf1-430c-a7e3-a44c4b843571",
   "metadata": {},
   "outputs": [
    {
     "name": "stderr",
     "output_type": "stream",
     "text": [
      "Add of existing embedding ID: Math-0\n",
      "Add of existing embedding ID: Math-1\n",
      "Add of existing embedding ID: Math-2\n",
      "Add of existing embedding ID: Math-3\n",
      "Add of existing embedding ID: Math-4\n",
      "Add of existing embedding ID: Math-5\n",
      "Add of existing embedding ID: Math-0\n",
      "Add of existing embedding ID: Math-1\n",
      "Add of existing embedding ID: Math-2\n",
      "Add of existing embedding ID: Math-3\n",
      "Add of existing embedding ID: Math-4\n",
      "Add of existing embedding ID: Math-5\n",
      "Add of existing embedding ID: Math-0\n",
      "Add of existing embedding ID: Math-1\n",
      "Add of existing embedding ID: Math-2\n",
      "Add of existing embedding ID: Math-3\n",
      "Add of existing embedding ID: Math-4\n",
      "Add of existing embedding ID: Math-5\n",
      "Add of existing embedding ID: Math-6\n",
      "Add of existing embedding ID: Math-7\n",
      "Add of existing embedding ID: Math-8\n",
      "Add of existing embedding ID: Math-9\n",
      "Add of existing embedding ID: Math-10\n",
      "Add of existing embedding ID: Math-11\n",
      "Add of existing embedding ID: Math-12\n",
      "Add of existing embedding ID: Math-13\n",
      "Add of existing embedding ID: Math-14\n",
      "Add of existing embedding ID: Math-15\n",
      "Add of existing embedding ID: Math-16\n",
      "Add of existing embedding ID: Math-17\n",
      "Add of existing embedding ID: Math-18\n",
      "Add of existing embedding ID: Math-19\n",
      "Add of existing embedding ID: Math-20\n",
      "Add of existing embedding ID: Math-21\n",
      "Add of existing embedding ID: Math-22\n",
      "Add of existing embedding ID: Math-23\n",
      "Add of existing embedding ID: Math-24\n",
      "Add of existing embedding ID: Math-25\n",
      "Add of existing embedding ID: Computer Science-0\n",
      "Add of existing embedding ID: Computer Science-1\n",
      "Add of existing embedding ID: Computer Science-2\n",
      "Add of existing embedding ID: Computer Science-3\n",
      "Add of existing embedding ID: Computer Science-4\n",
      "Add of existing embedding ID: Computer Science-0\n",
      "Add of existing embedding ID: Computer Science-1\n",
      "Add of existing embedding ID: Computer Science-2\n",
      "Add of existing embedding ID: Computer Science-3\n",
      "Add of existing embedding ID: Computer Science-4\n",
      "Add of existing embedding ID: Computer Science-5\n",
      "Add of existing embedding ID: Computer Science-6\n",
      "Add of existing embedding ID: Computer Science-7\n",
      "Add of existing embedding ID: Computer Science-0\n",
      "Add of existing embedding ID: Computer Science-1\n",
      "Add of existing embedding ID: Computer Science-2\n",
      "Add of existing embedding ID: Computer Science-3\n",
      "Add of existing embedding ID: Computer Science-4\n",
      "Add of existing embedding ID: Computer Science-5\n",
      "Add of existing embedding ID: Computer Science-6\n",
      "Add of existing embedding ID: Computer Science-7\n",
      "Add of existing embedding ID: Computer Science-8\n",
      "Add of existing embedding ID: Computer Science-0\n",
      "Add of existing embedding ID: Computer Science-1\n",
      "Add of existing embedding ID: Computer Science-2\n",
      "Add of existing embedding ID: Computer Science-3\n",
      "Add of existing embedding ID: Computer Science-4\n",
      "Add of existing embedding ID: Computer Science-5\n",
      "Add of existing embedding ID: Computer Science-6\n",
      "Add of existing embedding ID: Computer Science-0\n",
      "Add of existing embedding ID: Computer Science-1\n",
      "Add of existing embedding ID: Computer Science-2\n",
      "Add of existing embedding ID: Computer Science-3\n",
      "Add of existing embedding ID: Computer Science-4\n",
      "Add of existing embedding ID: Computer Science-5\n",
      "Add of existing embedding ID: Computer Science-6\n",
      "Add of existing embedding ID: Computer Science-7\n",
      "Add of existing embedding ID: Computer Science-8\n"
     ]
    },
    {
     "name": "stdout",
     "output_type": "stream",
     "text": [
      "<class 'list'>\n",
      "<class 'langchain_core.documents.base.Document'>\n"
     ]
    }
   ],
   "source": [
    "# import\n",
    "from langchain_community.vectorstores import Chroma\n",
    "from langchain_community.embeddings.sentence_transformer import (\n",
    "    SentenceTransformerEmbeddings,\n",
    ")\n",
    "\n",
    "embedding_function = SentenceTransformerEmbeddings(model_name=\"all-MiniLM-L6-v2\")\n",
    "\n",
    "query = \"What courses should I take as a CS major?\"\n",
    "\n",
    "db = Chroma(persist_directory=\"./stored_docs_db\", embedding_function=embedding_function)\n",
    "# Can instead specify top-k documents \n",
    "# https://python.langchain.com/docs/modules/data_connection/retrievers/vectorstore/#specifying-top-k\n",
    "docs = db.similarity_search(query)\n",
    "print(type(docs))\n",
    "\n",
    "print(type(docs[0]))"
   ]
  },
  {
   "cell_type": "code",
   "execution_count": 2,
   "id": "5490dc0b-1128-425e-9fb7-ffa2f9741eec",
   "metadata": {},
   "outputs": [
    {
     "data": {
      "text/plain": [
       "'distinct from those in the major. The complete official requirements for each emphasis are given in the University Catalog in the form of an Academic Advisement Report (ADVIP). Below we cover the portion of the requirements specific to the mathematics major. It is important for students to consult with their academic advisor about their choice and order of courses, as well as which additional courses would strengthen their degree program. The information and requirements given here apply to the 2023–2024 catalog. For other catalog years, please consult the archive. Supporting Computer Science Requirement All math and SDS majors are required to complete a computer programming course, regardless of the degree and emphasis selected. One of the following courses is recommended for most students: CSC 110, ISTA 130, ECE 175, or CHEE 205; other options may require additional prerequisites and/or a major or minor declared in another subject. CSC 110 — Introduction to Computer Programming I'"
      ]
     },
     "execution_count": 2,
     "metadata": {},
     "output_type": "execute_result"
    }
   ],
   "source": [
    "docs[1].page_content"
   ]
  },
  {
   "cell_type": "code",
   "execution_count": 3,
   "id": "4d8e1c22-885c-4f75-862f-7417eaf8a318",
   "metadata": {},
   "outputs": [
    {
     "data": {
      "text/plain": [
       "{'Subject': 'Computer Science',\n",
       " 'URL': 'https://cs.arizona.edu/undergraduate/undergraduate-program'}"
      ]
     },
     "execution_count": 3,
     "metadata": {},
     "output_type": "execute_result"
    }
   ],
   "source": [
    "docs[2].metadata"
   ]
  },
  {
   "cell_type": "code",
   "execution_count": null,
   "id": "6423494a-bcd0-43a8-999a-b9845481eb61",
   "metadata": {},
   "outputs": [],
   "source": []
  },
  {
   "cell_type": "code",
   "execution_count": null,
   "id": "70e98799-1cb5-459a-bd2a-924b2d4eba16",
   "metadata": {},
   "outputs": [],
   "source": []
  },
  {
   "cell_type": "code",
   "execution_count": 2,
   "id": "8ddd63e6-ab7c-4218-a205-18205ff428c7",
   "metadata": {},
   "outputs": [
    {
     "name": "stdout",
     "output_type": "stream",
     "text": [
      "Pulat lives in a neighborhood 5 miles away with 3 trees in his backyard\n",
      "Pulat lives in a neighborhood 5 miles away with 3 trees in his backyard\n"
     ]
    }
   ],
   "source": [
    "x = 5\n",
    "\n",
    "y = 3\n",
    "\n",
    "word = \"tree\"\n",
    "\n",
    "name = \"Pulat\"\n",
    "\n",
    "print(\"Pulat lives in a neighborhood 5 miles away with 3 trees in his backyard\")\n",
    "print(f\"{name} lives in a neighborhood {x} miles away with {y} {word}s in his backyard\")"
   ]
  }
 ],
 "metadata": {
  "kernelspec": {
   "display_name": "Python 3 (ipykernel)",
   "language": "python",
   "name": "python3"
  },
  "language_info": {
   "codemirror_mode": {
    "name": "ipython",
    "version": 3
   },
   "file_extension": ".py",
   "mimetype": "text/x-python",
   "name": "python",
   "nbconvert_exporter": "python",
   "pygments_lexer": "ipython3",
   "version": "3.10.6"
  }
 },
 "nbformat": 4,
 "nbformat_minor": 5
}
